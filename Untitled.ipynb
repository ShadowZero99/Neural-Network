{
 "cells": [
  {
   "cell_type": "code",
   "execution_count": 11,
   "id": "90db57d4",
   "metadata": {},
   "outputs": [],
   "source": [
    "import numpy as np"
   ]
  },
  {
   "cell_type": "code",
   "execution_count": 12,
   "id": "3be05fe3",
   "metadata": {},
   "outputs": [],
   "source": [
    "def sigmoid(x):\n",
    "    return 1 / (1 + np.exp(-x))"
   ]
  },
  {
   "cell_type": "code",
   "execution_count": 13,
   "id": "1ff1e590",
   "metadata": {},
   "outputs": [],
   "source": [
    "TI = np.array([[0,0,0],\n",
    "               [1,1,1],\n",
    "               [1,0,1],\n",
    "               [0,1,1]])"
   ]
  },
  {
   "cell_type": "code",
   "execution_count": 14,
   "id": "6e113fa3",
   "metadata": {},
   "outputs": [],
   "source": [
    "TO = np.array([[0,1,1,0]]).T"
   ]
  },
  {
   "cell_type": "code",
   "execution_count": 15,
   "id": "5a366e36",
   "metadata": {},
   "outputs": [],
   "source": [
    "np.random.seed(1)"
   ]
  },
  {
   "cell_type": "code",
   "execution_count": 16,
   "id": "f0bca1db",
   "metadata": {},
   "outputs": [],
   "source": [
    "W = 2 * np.random.random((3,1)) - 1"
   ]
  },
  {
   "cell_type": "code",
   "execution_count": 17,
   "id": "8e01f03c",
   "metadata": {},
   "outputs": [
    {
     "name": "stdout",
     "output_type": "stream",
     "text": [
      "Random weight\n",
      "[[-0.16595599]\n",
      " [ 0.44064899]\n",
      " [-0.99977125]]\n"
     ]
    }
   ],
   "source": [
    "print(\"Random weight\")\n",
    "print(W)"
   ]
  },
  {
   "cell_type": "code",
   "execution_count": 22,
   "id": "81030fdd",
   "metadata": {},
   "outputs": [],
   "source": [
    "for iteration in range(1):\n",
    "    input_layer = TI\n",
    "    outputs = sigmoid(np.dot(input_layer, W))\n"
   ]
  },
  {
   "cell_type": "code",
   "execution_count": 23,
   "id": "3ec5df9c",
   "metadata": {},
   "outputs": [
    {
     "name": "stdout",
     "output_type": "stream",
     "text": [
      "[[0.5       ]\n",
      " [0.3262757 ]\n",
      " [0.23762817]\n",
      " [0.36375058]]\n"
     ]
    }
   ],
   "source": [
    "print(outputs)"
   ]
  },
  {
   "cell_type": "code",
   "execution_count": null,
   "id": "1419d9e6",
   "metadata": {},
   "outputs": [],
   "source": []
  }
 ],
 "metadata": {
  "kernelspec": {
   "display_name": "Python 3 (ipykernel)",
   "language": "python",
   "name": "python3"
  },
  "language_info": {
   "codemirror_mode": {
    "name": "ipython",
    "version": 3
   },
   "file_extension": ".py",
   "mimetype": "text/x-python",
   "name": "python",
   "nbconvert_exporter": "python",
   "pygments_lexer": "ipython3",
   "version": "3.9.12"
  }
 },
 "nbformat": 4,
 "nbformat_minor": 5
}
