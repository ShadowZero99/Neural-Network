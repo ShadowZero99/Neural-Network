{
 "cells": [
  {
   "cell_type": "code",
   "execution_count": 60,
   "id": "aad9d4d2",
   "metadata": {},
   "outputs": [],
   "source": [
    "import numpy as np"
   ]
  },
  {
   "cell_type": "code",
   "execution_count": 61,
   "id": "06f90fff",
   "metadata": {},
   "outputs": [],
   "source": [
    "def sigmoid(x):\n",
    "    return 1 / (1 + np.exp(-x))\n",
    "def sigmoid_derivative(x):\n",
    "    return x * (1-x)"
   ]
  },
  {
   "cell_type": "code",
   "execution_count": 62,
   "id": "c164e83a",
   "metadata": {},
   "outputs": [],
   "source": [
    "TI = np.array([[0,0,0],\n",
    "               [1,1,1],\n",
    "               [1,0,1],\n",
    "               [0,1,1]])"
   ]
  },
  {
   "cell_type": "code",
   "execution_count": 63,
   "id": "d15b06b9",
   "metadata": {},
   "outputs": [],
   "source": [
    "TO = np.array([[0,1,1,0]]).T"
   ]
  },
  {
   "cell_type": "code",
   "execution_count": 64,
   "id": "766a512d",
   "metadata": {},
   "outputs": [],
   "source": [
    "np.random.seed(1)"
   ]
  },
  {
   "cell_type": "code",
   "execution_count": 65,
   "id": "7494da6a",
   "metadata": {},
   "outputs": [],
   "source": [
    "W = 2 * np.random.random((3,1)) - 1"
   ]
  },
  {
   "cell_type": "code",
   "execution_count": 66,
   "id": "f3db7cf3",
   "metadata": {},
   "outputs": [
    {
     "name": "stdout",
     "output_type": "stream",
     "text": [
      "Random weight\n",
      "[[-0.16595599]\n",
      " [ 0.44064899]\n",
      " [-0.99977125]]\n"
     ]
    }
   ],
   "source": [
    "print(\"Random weight\")\n",
    "print(W)"
   ]
  },
  {
   "cell_type": "code",
   "execution_count": 67,
   "id": "68ae805b",
   "metadata": {},
   "outputs": [],
   "source": [
    "for iteration in range(50000):\n",
    "    input_layer = TI\n",
    "    outputs = sigmoid(np.dot(input_layer, W))\n"
   ]
  },
  {
   "cell_type": "code",
   "execution_count": 68,
   "id": "bea270ab",
   "metadata": {},
   "outputs": [],
   "source": [
    "error = TO - outputs\n",
    "adjustments = error * sigmoid_derivative(outputs)\n",
    "\n",
    "W += np.dot(input_layer.T, adjustments)"
   ]
  },
  {
   "cell_type": "code",
   "execution_count": 69,
   "id": "dbcb6ac1",
   "metadata": {},
   "outputs": [
    {
     "name": "stdout",
     "output_type": "stream",
     "text": [
      "synaptic weights after traning\n",
      "[[ 0.12025406]\n",
      " [ 0.50456196]\n",
      " [-0.79774622]]\n"
     ]
    }
   ],
   "source": [
    "print('synaptic weights after traning')\n",
    "print(W)"
   ]
  },
  {
   "cell_type": "code",
   "execution_count": 70,
   "id": "db6e26ed",
   "metadata": {},
   "outputs": [
    {
     "name": "stdout",
     "output_type": "stream",
     "text": [
      "Outputs after traning\n",
      "[[0.5       ]\n",
      " [0.3262757 ]\n",
      " [0.23762817]\n",
      " [0.36375058]]\n"
     ]
    }
   ],
   "source": [
    "print('Outputs after traning')\n",
    "print(outputs)"
   ]
  },
  {
   "cell_type": "code",
   "execution_count": null,
   "id": "83fd524a",
   "metadata": {},
   "outputs": [],
   "source": []
  },
  {
   "cell_type": "code",
   "execution_count": null,
   "id": "e1d98767",
   "metadata": {},
   "outputs": [],
   "source": []
  },
  {
   "cell_type": "code",
   "execution_count": null,
   "id": "1d66fe96",
   "metadata": {},
   "outputs": [],
   "source": []
  }
 ],
 "metadata": {
  "kernelspec": {
   "display_name": "Python 3 (ipykernel)",
   "language": "python",
   "name": "python3"
  },
  "language_info": {
   "codemirror_mode": {
    "name": "ipython",
    "version": 3
   },
   "file_extension": ".py",
   "mimetype": "text/x-python",
   "name": "python",
   "nbconvert_exporter": "python",
   "pygments_lexer": "ipython3",
   "version": "3.9.12"
  }
 },
 "nbformat": 4,
 "nbformat_minor": 5
}
